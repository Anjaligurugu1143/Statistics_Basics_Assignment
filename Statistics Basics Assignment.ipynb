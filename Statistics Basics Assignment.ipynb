{
 "cells": [
  {
   "cell_type": "markdown",
   "id": "7f473658-cc26-4fe9-a728-a85fb6f5b2fd",
   "metadata": {},
   "source": [
    "# STATISTICS BASICS"
   ]
  },
  {
   "cell_type": "markdown",
   "id": "79b28a45-fb8c-4eb5-8240-412e18e0f466",
   "metadata": {},
   "source": [
    "## 1. Explain the different types of data (qualitative and quantitative) and provide examples of each. Discuss nominal, ordinal, interval, and ratio scales."
   ]
  },
  {
   "cell_type": "markdown",
   "id": "ab5ce565-b655-41bc-b1c6-22c10cce45fa",
   "metadata": {},
   "source": [
    "Data is primarily classified into two types: qualitative and quantitative.\n",
    "\n",
    "1. Qualitative Data\n",
    "Qualitative data (also known as categorical data) describes characteristics or qualities and is usually non-numerical. This data type is descriptive and captures data that can be observed but not measured.\n",
    "Product category: Electronics, clothing, furniture is an example.\n",
    "\n",
    "Qualitative data can be further classified into:\n",
    "Nominal Data: Data that represents categories with no inherent order.\n",
    "Examples include colors (red, blue, green) and car brands (Toyota, Ford, Honda).\n",
    "Ordinal Data: Data that represents categories with a specific order but without a standardized distance between them.\n",
    "Examples include levels of satisfaction (satisfied, neutral, dissatisfied) and movie ratings (poor, average, excellent).\n",
    "\n",
    "2. Quantitative Data\n",
    "Quantitative data is numerical and measures quantities or amounts. It can be counted or measured and is often used for mathematical calculations and statistical analysis.\n",
    "Age: 25, 30, 40 years is an example.\n",
    "\n",
    "Quantitative data can be further divided into:\n",
    "Interval Data: Numeric data with meaningful intervals between values but no true zero.\n",
    "Examples include temperature in Celsius or Fahrenheit and calendar years (e.g., 2000, 2020).\n",
    "Ratio Data: Numeric data with both meaningful intervals and a true zero, allowing for meaningful comparisons of ratios.\n",
    "Examples include height, weight, income, and age.\n",
    "\n",
    "Scales of Measurement: Nominal, Ordinal, Interval, and Ratio\n",
    "Nominal Scale\n",
    "Definition: Classifies data into distinct categories without any order or hierarchy.\n",
    "Examples: Gender (male, female), blood type (A, B, AB, O), and colors (red, green, blue).\n",
    "\n",
    "Ordinal Scale\n",
    "Definition: Classifies data into categories that have a specific, ranked order, but the intervals between ranks are not equal or specified.\n",
    "Examples: Education level (high school, college, graduate), satisfaction ratings (satisfied, neutral, dissatisfied), and military ranks (captain, major, colonel).\n",
    "\n",
    "Interval Scale\n",
    "Definition: Numeric scale where the intervals between values are consistent, but there is no true zero point, so ratios are not meaningful.\n",
    "Examples: Temperature in Celsius or Fahrenheit, IQ scores, and standardized test scores.\n",
    "\n",
    "Ratio Scale\n",
    "Definition: Numeric scale with equal intervals between values and a true zero point, allowing for meaningful comparison and calculation of ratios.\n",
    "Examples: Weight, height, age, and income"
   ]
  },
  {
   "cell_type": "markdown",
   "id": "e4f38fa9-b31a-42a9-b4f2-442e3b080274",
   "metadata": {},
   "source": [
    "# 2. What are the measures of central tendency, and when should you use each? Discuss the mean, median,and mode with examples and situations where each is appropriate."
   ]
  },
  {
   "cell_type": "markdown",
   "id": "d6257fc9-9563-4f42-80b9-efd4a2379883",
   "metadata": {},
   "source": [
    "Measures of central tendency summarize a set of data points by identifying a central or \"typical\" value around which the data clusters. The main measures of central tendency are mean, median, and mode. Each measure has unique characteristics and is suited to different types of data and scenarios.\n",
    "\n",
    "1. Mean (Average)\n",
    "The mean is the sum of all values in a dataset divided by the total number of values.\n",
    "Formula: Mean=∑𝑋/𝑁\n",
    "where X represents each value and N is the number of values.\n",
    "When to Use the Mean:\n",
    "Symmetric Distributions: The mean is most appropriate when data is evenly distributed without extreme outliers, as it accurately reflects the dataset’s center.\n",
    "Continuous Data: In cases where each data point has similar importance, like in height or temperature measurements, the mean gives a clear \"average\" representation.\n",
    "Limitations: The mean is sensitive to outliers, which can skew the result. For example, in a dataset of incomes where one person has an exceptionally high income, the mean may not represent the majority's income level.\n",
    "\n",
    "2. Median\n",
    "The median is the middle value in a dataset when values are ordered from smallest to largest. If there is an even number of values, the median is the average of the two middle values.\n",
    "When to Use the Median:\n",
    "Skewed Distributions: The median is ideal when data is skewed (i.e., when there are extreme outliers) since it is not affected by outliers.\n",
    "Ordinal Data: For data that can be ranked or ordered but not meaningfully averaged (like satisfaction ratings), the median provides a useful center without assuming equal distances between values.\n",
    "Example Scenario: For household income data, the median is often used because incomes can vary widely, and outliers can distort the mean.\n",
    "\n",
    "3. Mode\n",
    "The mode is the most frequently occurring value(s) in a dataset. A dataset can have one mode (unimodal), more than one mode (bimodal or multimodal), or no mode if all values are unique.\n",
    "When to Use the Mode:\n",
    "Categorical Data: The mode is useful for nominal data, where calculating a mean or median would not be meaningful, such as in identifying the most common color or brand.\n",
    "Multiple Peaks: In distributions with several peaks or clusters, the mode helps identify the most frequent or prominent values within each cluster.\n",
    "Example Scenario: In analyzing survey data on preferred types of cars, the mode would indicate the most commonly chosen car type, providing insight into popularity."
   ]
  },
  {
   "cell_type": "markdown",
   "id": "3b336eee-927a-4d06-a864-38aca5f418b8",
   "metadata": {},
   "source": [
    "# 3. Explain the concept of dispersion. How do variance and standard deviation measure the spread of data?"
   ]
  },
  {
   "cell_type": "markdown",
   "id": "f91da7f2-fde6-4168-8f89-be7b4e2f6c2a",
   "metadata": {},
   "source": [
    "Dispersion refers to the extent to which data points in a dataset are spread out or scattered. It shows how much individual data points differ from the central value (such as the mean) and from each other. Understanding dispersion helps to assess data variability, which is crucial for making decisions based on the consistency or volatility of data.\n",
    "Two key measures of dispersion are variance and standard deviation. These metrics quantify the degree to which data points are spread around the mean, with both being essential in statistical analysis.\n",
    "\n",
    "1. Variance\n",
    "Variance measures the average squared deviations from the mean. In other words, it calculates how far each data point is from the mean on average, but it squares these deviations to ensure all values are positive and to give more weight to larger deviations.\n",
    "Formula:\n",
    "For a population: 𝜎^2 = ∑(𝑋−𝜇)^2/𝑁\n",
    "For a sample: 𝑠^2=∑(𝑋−𝑋ˉ)^2/𝑛−1\n",
    "where:\n",
    "X represents each individual data point,\n",
    "μ is the population mean\n",
    "N is the number of observations in the population, and\n",
    "n−1 is used as the denominator in the sample to account for degrees of freedom.\n",
    "Interpretation: Variance shows how widely or narrowly data points are distributed around the mean. A larger variance indicates that data points are more spread out, while a smaller variance indicates that they are closer to the mean.\n",
    "\n",
    "2. Standard Deviation\n",
    "Standard deviation is the square root of the variance. It represents the average distance of each data point from the mean in the same units as the data, making it more interpretable and practical than variance.\n",
    "Formula:\n",
    "For a population: 𝜎=sqrt(∑(𝑋−𝜇)^2/𝑁)\n",
    "For a sample: 𝑠=sqrt(∑(𝑋−𝑋ˉ)^2/𝑛−1)\n",
    "Interpretation: The standard deviation tells us how much, on average, data points deviate from the mean. A smaller standard deviation means data points are closer to the mean, while a larger standard deviation indicates they are more spread out.\n",
    "\n",
    "When to Use Variance and Standard Deviation\n",
    "Variance is often used in theoretical statistics, especially when comparing data spread, as it emphasizes larger deviations. For instance, if we want to compare the volatility of two financial assets, variance can help to highlight significant outliers or large fluctuations.\n",
    "Standard Deviation is widely used in practical applications because it is in the same units as the data, making it easier to interpret. Standard deviation is valuable in contexts like finance (to understand asset risk) or quality control (to measure variability around a target)."
   ]
  },
  {
   "cell_type": "markdown",
   "id": "827ba55a-7794-4282-9891-c45ae88a621a",
   "metadata": {},
   "source": [
    "# 4. What is a box plot, and what can it tell you about the distribution of data?"
   ]
  },
  {
   "cell_type": "markdown",
   "id": "0854a11b-39a4-4faf-a2eb-e74a823e56a1",
   "metadata": {},
   "source": [
    "A box plot (or box-and-whisker plot) is a graphical representation that summarizes the distribution of a dataset by displaying its central tendency, variability, and skewness. It visually highlights the median, quartiles, and potential outliers, giving a quick overview of the spread and symmetry of the data.\n",
    "\n",
    "Key Components of a Box Plot:\n",
    "1. Median: The middle value of the data set, represented by a line inside the box. This divides the data into two halves.\n",
    "2. Quartiles:\n",
    "Q1 (First Quartile): The 25th percentile, or the value below which 25% of the data fall.\n",
    "Q3 (Third Quartile): The 75th percentile, or the value below which 75% of the data fall.\n",
    "The Interquartile Range (IQR) is the range between Q1 and Q3 (IQR = Q3 - Q1) and represents the middle 50% of the data.\n",
    "3. Whiskers:\n",
    "The whiskers extend from the box to show the range of the data, typically up to 1.5 times the IQR from Q1 and Q3.\n",
    "The whiskers represent the range of the data, excluding outliers.\n",
    "4. Outliers:\n",
    "Data points that fall outside 1.5 times the IQR from either Q1 or Q3 are considered outliers and are plotted as individual points outside the whiskers.\n",
    "Interpreting a Box Plot\n",
    "\n",
    "A box plot reveals several aspects of a data distribution:\n",
    "1. Center: The median line inside the box shows the data's central value, offering an idea of the \"typical\" value.\n",
    "2. Spread: The length of the box (IQR) represents the spread of the middle 50% of the data. A larger IQR suggests more variability, while a smaller IQR indicates the data is more concentrated around the median.\n",
    "3. Symmetry and Skewness:\n",
    "If the median is centered in the box and the whiskers are roughly equal in length, the data may be symmetric.\n",
    "If the median is closer to Q1 or Q3, or if one whisker is noticeably longer, the data is likely skewed.\n",
    "Left (Negative) Skew: Median closer to Q3 with a longer left whisker.\n",
    "Right (Positive) Skew: Median closer to Q1 with a longer right whisker.\n",
    "4. Outliers: Points outside the whiskers indicate potential outliers, showing extreme values that may need further investigation. Outliers can hint at variability or unusual observations in the data."
   ]
  },
  {
   "cell_type": "markdown",
   "id": "90daec1d-5924-418c-9d7c-280476931172",
   "metadata": {},
   "source": [
    "# 5. Discuss the role of random sampling in making inferences about populations."
   ]
  },
  {
   "cell_type": "markdown",
   "id": "225265b6-5274-4971-98a4-b171a5c44535",
   "metadata": {},
   "source": [
    "Random sampling is essential in statistics for making inferences about populations, as it provides a method to collect data that is representative of the entire population, minimizing bias and increasing the validity of the results.\n",
    "\n",
    "Here are some key roles random sampling plays in this context:\n",
    "1. Reducing Bias: Random sampling ensures that every individual in the population has an equal chance of being selected, reducing the likelihood of systematic bias that might skew results if certain groups were over- or underrepresented.\n",
    "2. Generalizability: By using a sample that is representative of the population, findings from the sample can be generalized to the whole population. This is crucial when it is impractical or impossible to survey everyone in the population.\n",
    "3. Enhancing Accuracy: Random sampling enables researchers to obtain reliable and accurate estimates of population parameters (e.g., means, proportions). The randomness in the selection process helps ensure that the sample mirrors the diversity and characteristics of the entire population.\n",
    "4. Facilitating Statistical Inference: Statistical inference relies on probability theory, which requires random sampling to produce estimators that are unbiased and consistent. With random samples, researchers can calculate confidence intervals and conduct hypothesis tests, providing measures of reliability and uncertainty about their conclusions.\n",
    "5. Reducing Cost and Effort: Surveying an entire population can be resource-intensive. Random sampling allows researchers to study a smaller, manageable subset, significantly cutting down costs and time without sacrificing the quality of insights, as long as the sample is well-designed."
   ]
  },
  {
   "cell_type": "markdown",
   "id": "9c6576df-a84b-43e8-b0ba-704389c64024",
   "metadata": {},
   "source": [
    "# 6. Explain the concept of skewness and its types. How does skewness affect the interpretation of data?"
   ]
  },
  {
   "cell_type": "markdown",
   "id": "48938040-ee8c-48db-9ccf-beba2bb36a17",
   "metadata": {},
   "source": [
    "Skewness is a measure of asymmetry in the distribution of data values around the mean. It indicates whether data values are more spread out on one side of the mean than the other, helping to describe the shape of a dataset.\n",
    "\n",
    "Types of Skewness\n",
    "1. Positive Skewness (Right Skew): In a positively skewed distribution, the tail on the right side of the distribution (higher values) is longer than the left side. The mean is typically greater than the median in such a distribution. This skewness often occurs in datasets where outliers or a small number of high values pull the average to the right (e.g., income distributions, where a few high incomes can skew the data).\n",
    "2. Negative Skewness (Left Skew): In a negatively skewed distribution, the tail on the left side (lower values) is longer than the right. The mean is usually less than the median. This type of skewness may appear in distributions where a few low values pull the mean to the left (e.g., age at retirement, where most people retire around a certain age, but some may retire significantly earlier).\n",
    "3. Zero Skewness (Symmetrical Distribution): A symmetrical or zero-skewness distribution has equal tails on both sides of the mean. This type of distribution is commonly represented by a bell-shaped curve, as in a normal distribution, where the mean and median are equal.\n",
    "\n",
    "How Skewness Affects Data Interpretation\n",
    "1. Central Tendency: In skewed distributions, the mean is affected by outliers or extreme values, pulling it in the direction of the skew. Therefore, in skewed data, the median often serves as a more accurate measure of central tendency than the mean.\n",
    "2. Statistical Analysis: Many statistical analyses assume normal distribution (zero skewness), so a high level of skewness may violate these assumptions, leading to inaccurate results or misleading interpretations. In such cases, data transformations or non-parametric tests may be needed.\n",
    "3. Decision-Making: In fields like finance, real estate, or social sciences, skewness provides insight into data tendencies. For example, a right-skewed income distribution indicates that while most people earn lower amounts, a few high earners pull the average income up, which can be essential for policy-making or economic analysis."
   ]
  },
  {
   "cell_type": "markdown",
   "id": "dd41cd8f-764e-49cc-9f7c-f8429dbbb16d",
   "metadata": {},
   "source": [
    "# 7. What is the interquartile range (IQR), and how is it used to detect outliers?"
   ]
  },
  {
   "cell_type": "markdown",
   "id": "8ac74f99-be74-4e24-9fb7-7ad42624c4f1",
   "metadata": {},
   "source": [
    "The interquartile range (IQR) is a measure of statistical dispersion that indicates the spread of the middle 50% of a dataset. It is calculated as the difference between the third quartile (Q3) and the first quartile (Q1), where:\n",
    "IQR=𝑄3−𝑄1\n",
    "The IQR focuses on the middle of the data distribution, making it a robust measure of variability that is less affected by extreme values.\n",
    "\n",
    "Detecting Outliers Using the IQR\n",
    "Outliers can be detected by examining values that fall significantly below or above the typical range of data, specifically values that lie outside of 1.5 times the IQR from the quartiles. Here’s how:\n",
    "1. Calculate the lower and upper bounds:\n",
    "Lower Bound: 𝑄1−1.5×IQR\n",
    "Upper Bound: Q3+1.5×IQR\n",
    "2. Identify Outliers:\n",
    "Any data point below the lower bound or above the upper bound is considered an outlier.\n",
    "Example\n",
    "Suppose we have a dataset with:\n",
    "Q1=25\n",
    "Q3=75\n",
    "Then, the IQR is 75−25=50.\n",
    "Lower Bound: 25−(1.5×50)=−50\n",
    "Upper Bound: 75+(1.5×50)=150\n",
    "Any values below -50 or above 150 would be considered outliers."
   ]
  },
  {
   "cell_type": "markdown",
   "id": "6f4f235a-5a47-46ea-a5af-2cdf081e2337",
   "metadata": {},
   "source": [
    "# 8. Discuss the conditions under which the binomial distribution is used."
   ]
  },
  {
   "cell_type": "markdown",
   "id": "9b1645c7-51d4-49af-9254-62da27b19fd9",
   "metadata": {},
   "source": [
    "The binomial distribution is used to model the probability of obtaining a specific number of \"successes\" in a fixed number of independent trials, each with the same probability of success. For a situation to be appropriately modeled by a binomial distribution, certain conditions must be met:\n",
    "1. Fixed Number of Trials (n): The number of trials or attempts, denoted by 𝑛, must be predetermined and fixed in advance. For example, you might flip a coin 10 times or survey 100 people.\n",
    "2. Two Possible Outcomes (Success and Failure): Each trial must result in one of two possible outcomes, often labeled as \"success\" and \"failure.\" For instance, in a coin toss, the outcomes are \"heads\" (success) and \"tails\" (failure).\n",
    "3. Constant Probability of Success (p): The probability of success, denoted by p, must be the same for each trial. For example, if a coin is fair, the probability of getting heads remains 0.5 for each flip.\n",
    "4. Independence of Trials: Each trial is independent of the others, meaning the outcome of one trial does not affect the outcomes of other trials. This condition ensures that the probability of success remains constant across all trials.\n",
    "\n",
    "Binomial Distribution Formula\n",
    "For a random variable X representing the number of successes in n trials with probability p, the probability of obtaining exactly k successes is given by:\n",
    "P(X=k)=((n/k)p^k(1−p)^(n-k)\n",
    "where:\n",
    "(n/k) is the number of ways to choose k successes out of n trials."
   ]
  },
  {
   "cell_type": "markdown",
   "id": "e8961183-3f63-4c4f-9a57-e631e6a71a88",
   "metadata": {},
   "source": [
    "# 9. Explain the properties of the normal distribution and the empirical rule (68-95-99.7 rule)."
   ]
  },
  {
   "cell_type": "markdown",
   "id": "7b268112-e951-4537-96c1-c46b088832c8",
   "metadata": {},
   "source": [
    "The normal distribution is a continuous probability distribution that is symmetrical and bell-shaped, centered around its mean. It is one of the most widely used distributions in statistics due to its natural occurrence in many datasets and its importance in statistical inference.\n",
    "\n",
    "Properties of the Normal Distribution\n",
    "1. Symmetry: The normal distribution is symmetric about its mean. This means the left and right sides of the distribution are mirror images.\n",
    "2. Mean, Median, and Mode: In a perfectly normal distribution, the mean, median, and mode are all equal and located at the center of the distribution.\n",
    "3. Bell-Shaped Curve: The normal distribution has a characteristic bell shape, with most data points concentrated around the mean and tapering off symmetrically as values move away from the center.\n",
    "4. Defined by Mean and Standard Deviation: The shape and spread of a normal distribution are determined by two parameters:\n",
    "Mean (μ): Determines the center of the distribution.\n",
    "Standard Deviation (σ): Controls the spread or width of the distribution. A larger standard deviation produces a wider, flatter curve, while a smaller one produces a narrower, taller curve.\n",
    "5. Asymptotic: The tails of a normal distribution extend infinitely in both directions, approaching but never touching the horizontal axis.\n",
    "6. Area Under the Curve: The total area under the curve of a normal distribution equals 1, representing the total probability.\n",
    "\n",
    "The Empirical Rule (68-95-99.7 Rule)\n",
    "The Empirical Rule, also known as the 68-95-99.7 rule, is a shorthand for understanding the spread of data in a normal distribution. According to this rule:\n",
    "68% of data falls within one standard deviation of the mean (μ ± σ).\n",
    "95% of data falls within two standard deviations of the mean (μ ± 2σ).\n",
    "99.7% of data falls within three standard deviations of the mean (μ ± 3σ).\n",
    "This rule is particularly helpful for quickly estimating the probability of observing values within a certain range in a normally distributed dataset."
   ]
  },
  {
   "cell_type": "markdown",
   "id": "f8b0998e-87d0-48e1-be69-417ca02700f5",
   "metadata": {},
   "source": [
    "# 10. Provide a real-life example of a Poisson process and calculate the probability for a specific event."
   ]
  },
  {
   "cell_type": "markdown",
   "id": "91faaca0-6b79-4aa0-bb2e-18471f0691e6",
   "metadata": {},
   "source": [
    "A Poisson process models the occurrence of rare, random events over a specific interval of time or space, where events happen independently at a constant average rate. The Poisson distribution, often used to describe such processes, provides the probability of observing a specific number of events within that interval.\n",
    "\n",
    "Real-Life Example of a Poisson Process\n",
    "Let's consider an example in customer service: Suppose a customer support center receives an average of 3 calls per minute. The arrival of calls is independent, meaning one call's timing does not influence another's, and they occur at a constant rate. This situation can be modeled as a Poisson process, where the rate of calls (λ) is 3 per minute.\n",
    "\n",
    "Calculating the Probability of a Specific Event\n",
    "Let’s say we want to calculate the probability that the center will receive exactly 5 calls in the next minute.\n",
    "The Poisson probability formula is:\n",
    "P(X=k)= λ^k.e^−λ/k!\n",
    "where:\n",
    "X is the number of events we’re interested in (here, 5 calls),\n",
    "λ is the average rate (here, 3 calls per minute),\n",
    "k is the specific number of events we want to calculate the probability for (here, \n",
    "e is approximately 2.71828.\n",
    "Substitute the values:\n",
    "P(X=5)=3^5.e^−3/5!\n",
    "Let's calculate it:\n",
    "The probability that exactly 5 calls will be received in the next minute is approximately 0.1008, or about 10.08%.\n",
    "This example illustrates how the Poisson distribution can be used to predict the likelihood of a specific number of events occurring in a fixed time period"
   ]
  },
  {
   "cell_type": "markdown",
   "id": "276b50ef-1118-4bca-95fa-1f2c85419554",
   "metadata": {},
   "source": [
    "# 11. Explain what a random variable is and differentiate between discrete and continuous random variables."
   ]
  },
  {
   "cell_type": "markdown",
   "id": "cb2e2b2c-28b5-4293-bb54-526a6c1ab252",
   "metadata": {},
   "source": [
    "A random variable is a numerical outcome of a random phenomenon or experiment. It is a function that assigns a real number to each possible outcome in a sample space. Random variables are fundamental in probability theory and statistics, as they represent the uncertain quantities that we wish to model or analyze.\n",
    "Types of Random Variables\n",
    "1. Discrete Random Variables:\n",
    "A discrete random variable takes on a countable number of distinct values. These values are typically integers and can be finite or countably infinite.\n",
    "Examples of discrete random variables:\n",
    "The number of heads in 10 coin flips.\n",
    "The number of cars passing through a toll booth in an hour.\n",
    "The number of students in a class.\n",
    "Key Characteristics:\n",
    "The values are separate and distinct, with no in-between values (e.g., you can’t have 2.5 cars).\n",
    "The probability of each value is associated with a specific probability mass function (PMF).\n",
    "\n",
    "2. Continuous Random Variables:\n",
    "A continuous random variable can take on an infinite number of values within a given range. These values are typically real numbers, and there are no gaps or interruptions between possible values.\n",
    "Examples of continuous random variables:\n",
    "The height of individuals in a population.\n",
    "The time it takes for a car to travel from point A to point B.\n",
    "The temperature on a given day.\n",
    "Key Characteristics:\n",
    "The values form a continuum, so between any two values, there are infinitely many possible values.\n",
    "The probability of the variable taking any exact value is zero, and the probability is represented by a probability density function (PDF). Probabilities are calculated over intervals."
   ]
  },
  {
   "cell_type": "markdown",
   "id": "d56800d3-12c5-4bea-b0e2-eacd8551b30b",
   "metadata": {},
   "source": [
    "# 12. Provide an example dataset, calculate both covariance and correlation, and interpret the results."
   ]
  },
  {
   "cell_type": "code",
   "execution_count": 1,
   "id": "a75bf725-a3a7-480e-bb5c-40d12375e375",
   "metadata": {},
   "outputs": [
    {
     "name": "stdout",
     "output_type": "stream",
     "text": [
      "Covariance: 10.0\n",
      "Correlation: 0.9999999999999998\n"
     ]
    }
   ],
   "source": [
    "import numpy as np\n",
    "hours_studied = np.array([2, 3, 4, 5, 6])\n",
    "test_scores = np.array([50, 55, 60, 65, 70])\n",
    "mean_X = np.mean(hours_studied)\n",
    "mean_Y = np.mean(test_scores)\n",
    "cov_XY = np.mean((hours_studied - mean_X) * (test_scores - mean_Y))\n",
    "std_X = np.std(hours_studied, ddof=0)\n",
    "std_Y = np.std(test_scores, ddof=0)\n",
    "correlation = cov_XY / (std_X * std_Y)\n",
    "print(\"Covariance:\", cov_XY)\n",
    "print(\"Correlation:\", correlation)"
   ]
  },
  {
   "cell_type": "code",
   "execution_count": null,
   "id": "ec34b827-72df-46a7-b92e-ab311f7d702f",
   "metadata": {},
   "outputs": [],
   "source": []
  }
 ],
 "metadata": {
  "kernelspec": {
   "display_name": "Python 3 (ipykernel)",
   "language": "python",
   "name": "python3"
  },
  "language_info": {
   "codemirror_mode": {
    "name": "ipython",
    "version": 3
   },
   "file_extension": ".py",
   "mimetype": "text/x-python",
   "name": "python",
   "nbconvert_exporter": "python",
   "pygments_lexer": "ipython3",
   "version": "3.12.6"
  }
 },
 "nbformat": 4,
 "nbformat_minor": 5
}
